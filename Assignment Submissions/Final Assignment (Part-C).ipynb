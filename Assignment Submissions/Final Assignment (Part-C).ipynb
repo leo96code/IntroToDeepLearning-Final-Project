{
 "cells": [
  {
   "cell_type": "markdown",
   "id": "innocent-nitrogen",
   "metadata": {},
   "source": [
    "# Peer-graded Assignment: Build a Regression Model in Keras"
   ]
  },
  {
   "cell_type": "markdown",
   "id": "failing-outline",
   "metadata": {},
   "source": [
    "## Concrete Strength Prediction - Part C"
   ]
  },
  {
   "cell_type": "markdown",
   "id": "bound-mining",
   "metadata": {},
   "source": [
    "### Submitted by: Muhammad Jawad Bashir"
   ]
  },
  {
   "cell_type": "markdown",
   "id": "connected-penetration",
   "metadata": {},
   "source": [
    "**1. Importing Libararies & Dataset**"
   ]
  },
  {
   "cell_type": "code",
   "execution_count": 1,
   "id": "endless-begin",
   "metadata": {},
   "outputs": [],
   "source": [
    "import pandas as pd\n",
    "import numpy as np"
   ]
  },
  {
   "cell_type": "code",
   "execution_count": 2,
   "id": "intermediate-grove",
   "metadata": {},
   "outputs": [
    {
     "data": {
      "text/html": [
       "<div>\n",
       "<style scoped>\n",
       "    .dataframe tbody tr th:only-of-type {\n",
       "        vertical-align: middle;\n",
       "    }\n",
       "\n",
       "    .dataframe tbody tr th {\n",
       "        vertical-align: top;\n",
       "    }\n",
       "\n",
       "    .dataframe thead th {\n",
       "        text-align: right;\n",
       "    }\n",
       "</style>\n",
       "<table border=\"1\" class=\"dataframe\">\n",
       "  <thead>\n",
       "    <tr style=\"text-align: right;\">\n",
       "      <th></th>\n",
       "      <th>Cement</th>\n",
       "      <th>Blast Furnace Slag</th>\n",
       "      <th>Fly Ash</th>\n",
       "      <th>Water</th>\n",
       "      <th>Superplasticizer</th>\n",
       "      <th>Coarse Aggregate</th>\n",
       "      <th>Fine Aggregate</th>\n",
       "      <th>Age</th>\n",
       "      <th>Strength</th>\n",
       "    </tr>\n",
       "  </thead>\n",
       "  <tbody>\n",
       "    <tr>\n",
       "      <th>0</th>\n",
       "      <td>540.0</td>\n",
       "      <td>0.0</td>\n",
       "      <td>0.0</td>\n",
       "      <td>162.0</td>\n",
       "      <td>2.5</td>\n",
       "      <td>1040.0</td>\n",
       "      <td>676.0</td>\n",
       "      <td>28</td>\n",
       "      <td>79.99</td>\n",
       "    </tr>\n",
       "    <tr>\n",
       "      <th>1</th>\n",
       "      <td>540.0</td>\n",
       "      <td>0.0</td>\n",
       "      <td>0.0</td>\n",
       "      <td>162.0</td>\n",
       "      <td>2.5</td>\n",
       "      <td>1055.0</td>\n",
       "      <td>676.0</td>\n",
       "      <td>28</td>\n",
       "      <td>61.89</td>\n",
       "    </tr>\n",
       "    <tr>\n",
       "      <th>2</th>\n",
       "      <td>332.5</td>\n",
       "      <td>142.5</td>\n",
       "      <td>0.0</td>\n",
       "      <td>228.0</td>\n",
       "      <td>0.0</td>\n",
       "      <td>932.0</td>\n",
       "      <td>594.0</td>\n",
       "      <td>270</td>\n",
       "      <td>40.27</td>\n",
       "    </tr>\n",
       "    <tr>\n",
       "      <th>3</th>\n",
       "      <td>332.5</td>\n",
       "      <td>142.5</td>\n",
       "      <td>0.0</td>\n",
       "      <td>228.0</td>\n",
       "      <td>0.0</td>\n",
       "      <td>932.0</td>\n",
       "      <td>594.0</td>\n",
       "      <td>365</td>\n",
       "      <td>41.05</td>\n",
       "    </tr>\n",
       "    <tr>\n",
       "      <th>4</th>\n",
       "      <td>198.6</td>\n",
       "      <td>132.4</td>\n",
       "      <td>0.0</td>\n",
       "      <td>192.0</td>\n",
       "      <td>0.0</td>\n",
       "      <td>978.4</td>\n",
       "      <td>825.5</td>\n",
       "      <td>360</td>\n",
       "      <td>44.30</td>\n",
       "    </tr>\n",
       "  </tbody>\n",
       "</table>\n",
       "</div>"
      ],
      "text/plain": [
       "   Cement  Blast Furnace Slag  Fly Ash  Water  Superplasticizer  \\\n",
       "0   540.0                 0.0      0.0  162.0               2.5   \n",
       "1   540.0                 0.0      0.0  162.0               2.5   \n",
       "2   332.5               142.5      0.0  228.0               0.0   \n",
       "3   332.5               142.5      0.0  228.0               0.0   \n",
       "4   198.6               132.4      0.0  192.0               0.0   \n",
       "\n",
       "   Coarse Aggregate  Fine Aggregate  Age  Strength  \n",
       "0            1040.0           676.0   28     79.99  \n",
       "1            1055.0           676.0   28     61.89  \n",
       "2             932.0           594.0  270     40.27  \n",
       "3             932.0           594.0  365     41.05  \n",
       "4             978.4           825.5  360     44.30  "
      ]
     },
     "execution_count": 2,
     "metadata": {},
     "output_type": "execute_result"
    }
   ],
   "source": [
    "concrete_data = pd.read_csv('https://s3-api.us-geo.objectstorage.softlayer.net/cf-courses-data/CognitiveClass/DL0101EN/labs/data/concrete_data.csv')\n",
    "concrete_data.head()"
   ]
  },
  {
   "cell_type": "code",
   "execution_count": 3,
   "id": "after-rates",
   "metadata": {},
   "outputs": [
    {
     "data": {
      "text/plain": [
       "Cement                0\n",
       "Blast Furnace Slag    0\n",
       "Fly Ash               0\n",
       "Water                 0\n",
       "Superplasticizer      0\n",
       "Coarse Aggregate      0\n",
       "Fine Aggregate        0\n",
       "Age                   0\n",
       "Strength              0\n",
       "dtype: int64"
      ]
     },
     "execution_count": 3,
     "metadata": {},
     "output_type": "execute_result"
    }
   ],
   "source": [
    "concrete_data.isnull().sum()"
   ]
  },
  {
   "cell_type": "markdown",
   "id": "reported-blink",
   "metadata": {},
   "source": [
    "**2. Separate into features & labels**"
   ]
  },
  {
   "cell_type": "code",
   "execution_count": 4,
   "id": "soviet-thirty",
   "metadata": {},
   "outputs": [
    {
     "data": {
      "text/plain": [
       "0    79.99\n",
       "1    61.89\n",
       "2    40.27\n",
       "3    41.05\n",
       "4    44.30\n",
       "Name: Strength, dtype: float64"
      ]
     },
     "execution_count": 4,
     "metadata": {},
     "output_type": "execute_result"
    }
   ],
   "source": [
    "#Let's split the data into predictors and target\n",
    "cd_columns = concrete_data.columns\n",
    "predictors = concrete_data[cd_columns[cd_columns != 'Strength']]\n",
    "target = concrete_data['Strength']\n",
    "target.head()"
   ]
  },
  {
   "cell_type": "markdown",
   "id": "hearing-block",
   "metadata": {},
   "source": [
    "**2a: Normalizing the Dataset***"
   ]
  },
  {
   "cell_type": "code",
   "execution_count": 5,
   "id": "floppy-intermediate",
   "metadata": {},
   "outputs": [
    {
     "data": {
      "text/html": [
       "<div>\n",
       "<style scoped>\n",
       "    .dataframe tbody tr th:only-of-type {\n",
       "        vertical-align: middle;\n",
       "    }\n",
       "\n",
       "    .dataframe tbody tr th {\n",
       "        vertical-align: top;\n",
       "    }\n",
       "\n",
       "    .dataframe thead th {\n",
       "        text-align: right;\n",
       "    }\n",
       "</style>\n",
       "<table border=\"1\" class=\"dataframe\">\n",
       "  <thead>\n",
       "    <tr style=\"text-align: right;\">\n",
       "      <th></th>\n",
       "      <th>Cement</th>\n",
       "      <th>Blast Furnace Slag</th>\n",
       "      <th>Fly Ash</th>\n",
       "      <th>Water</th>\n",
       "      <th>Superplasticizer</th>\n",
       "      <th>Coarse Aggregate</th>\n",
       "      <th>Fine Aggregate</th>\n",
       "      <th>Age</th>\n",
       "    </tr>\n",
       "  </thead>\n",
       "  <tbody>\n",
       "    <tr>\n",
       "      <th>0</th>\n",
       "      <td>2.476712</td>\n",
       "      <td>-0.856472</td>\n",
       "      <td>-0.846733</td>\n",
       "      <td>-0.916319</td>\n",
       "      <td>-0.620147</td>\n",
       "      <td>0.862735</td>\n",
       "      <td>-1.217079</td>\n",
       "      <td>-0.279597</td>\n",
       "    </tr>\n",
       "    <tr>\n",
       "      <th>1</th>\n",
       "      <td>2.476712</td>\n",
       "      <td>-0.856472</td>\n",
       "      <td>-0.846733</td>\n",
       "      <td>-0.916319</td>\n",
       "      <td>-0.620147</td>\n",
       "      <td>1.055651</td>\n",
       "      <td>-1.217079</td>\n",
       "      <td>-0.279597</td>\n",
       "    </tr>\n",
       "    <tr>\n",
       "      <th>2</th>\n",
       "      <td>0.491187</td>\n",
       "      <td>0.795140</td>\n",
       "      <td>-0.846733</td>\n",
       "      <td>2.174405</td>\n",
       "      <td>-1.038638</td>\n",
       "      <td>-0.526262</td>\n",
       "      <td>-2.239829</td>\n",
       "      <td>3.551340</td>\n",
       "    </tr>\n",
       "    <tr>\n",
       "      <th>3</th>\n",
       "      <td>0.491187</td>\n",
       "      <td>0.795140</td>\n",
       "      <td>-0.846733</td>\n",
       "      <td>2.174405</td>\n",
       "      <td>-1.038638</td>\n",
       "      <td>-0.526262</td>\n",
       "      <td>-2.239829</td>\n",
       "      <td>5.055221</td>\n",
       "    </tr>\n",
       "    <tr>\n",
       "      <th>4</th>\n",
       "      <td>-0.790075</td>\n",
       "      <td>0.678079</td>\n",
       "      <td>-0.846733</td>\n",
       "      <td>0.488555</td>\n",
       "      <td>-1.038638</td>\n",
       "      <td>0.070492</td>\n",
       "      <td>0.647569</td>\n",
       "      <td>4.976069</td>\n",
       "    </tr>\n",
       "  </tbody>\n",
       "</table>\n",
       "</div>"
      ],
      "text/plain": [
       "     Cement  Blast Furnace Slag   Fly Ash     Water  Superplasticizer  \\\n",
       "0  2.476712           -0.856472 -0.846733 -0.916319         -0.620147   \n",
       "1  2.476712           -0.856472 -0.846733 -0.916319         -0.620147   \n",
       "2  0.491187            0.795140 -0.846733  2.174405         -1.038638   \n",
       "3  0.491187            0.795140 -0.846733  2.174405         -1.038638   \n",
       "4 -0.790075            0.678079 -0.846733  0.488555         -1.038638   \n",
       "\n",
       "   Coarse Aggregate  Fine Aggregate       Age  \n",
       "0          0.862735       -1.217079 -0.279597  \n",
       "1          1.055651       -1.217079 -0.279597  \n",
       "2         -0.526262       -2.239829  3.551340  \n",
       "3         -0.526262       -2.239829  5.055221  \n",
       "4          0.070492        0.647569  4.976069  "
      ]
     },
     "execution_count": 5,
     "metadata": {},
     "output_type": "execute_result"
    }
   ],
   "source": [
    "pred_norm = (predictors - predictors.mean()) / predictors.std()\n",
    "pred_norm.head()"
   ]
  },
  {
   "cell_type": "code",
   "execution_count": 6,
   "id": "taken-michigan",
   "metadata": {},
   "outputs": [
    {
     "data": {
      "text/plain": [
       "8"
      ]
     },
     "execution_count": 6,
     "metadata": {},
     "output_type": "execute_result"
    }
   ],
   "source": [
    "inp_cols = pred_norm.shape[1]\n",
    "inp_cols"
   ]
  },
  {
   "cell_type": "markdown",
   "id": "collectible-description",
   "metadata": {},
   "source": [
    "**3. Defining Keras Regression Model**"
   ]
  },
  {
   "cell_type": "code",
   "execution_count": 7,
   "id": "entire-turner",
   "metadata": {},
   "outputs": [],
   "source": [
    "import keras\n",
    "from keras.models import Sequential\n",
    "from keras.layers import Dense"
   ]
  },
  {
   "cell_type": "code",
   "execution_count": 8,
   "id": "built-coverage",
   "metadata": {},
   "outputs": [],
   "source": [
    "def model_reg():\n",
    "    model = Sequential()\n",
    "    model.add(Dense(10, activation='relu', input_shape=(inp_cols,)))\n",
    "    model.add(Dense(1))\n",
    "    model.compile(optimizer = 'adam', loss='mean_squared_error')\n",
    "    return model"
   ]
  },
  {
   "cell_type": "markdown",
   "id": "original-supply",
   "metadata": {},
   "source": [
    "**4. Running the model for 50 times with given requirements in Assignment Part-C**"
   ]
  },
  {
   "cell_type": "code",
   "execution_count": 9,
   "id": "scenic-governor",
   "metadata": {},
   "outputs": [],
   "source": [
    "from sklearn.model_selection import train_test_split\n",
    "from sklearn.metrics import mean_squared_error"
   ]
  },
  {
   "cell_type": "code",
   "execution_count": 10,
   "id": "corporate-circular",
   "metadata": {},
   "outputs": [],
   "source": [
    "mse_list = []\n",
    "model = model_reg()\n",
    "for i in range(0,50):\n",
    "    X_train, X_test, y_train, y_test = train_test_split(pred_norm, target, test_size = 0.30, random_state=42)\n",
    "    model.fit(X_train, y_train, epochs=100, verbose=0)\n",
    "    y_pred = model.predict(X_test)\n",
    "    mse = mean_squared_error(y_test,y_pred)\n",
    "    mse_list.append(mse)"
   ]
  },
  {
   "cell_type": "code",
   "execution_count": 11,
   "id": "three-spencer",
   "metadata": {},
   "outputs": [
    {
     "data": {
      "text/plain": [
       "[185.04506141301462,\n",
       " 86.00656340102131,\n",
       " 55.87256493374258,\n",
       " 47.82517333947846,\n",
       " 44.90074672385701,\n",
       " 43.59956323614237,\n",
       " 42.455772893697784,\n",
       " 41.97453607244428,\n",
       " 41.41123310867232,\n",
       " 40.802247987774095,\n",
       " 40.76650409882927,\n",
       " 40.36372085519621,\n",
       " 40.70540911794862,\n",
       " 40.628077939026795,\n",
       " 40.16610400754221,\n",
       " 40.13195674801448,\n",
       " 40.21870786057688,\n",
       " 40.228790717999786,\n",
       " 40.15507379183835,\n",
       " 40.097205473300185,\n",
       " 40.30099635907323,\n",
       " 40.417283784787095,\n",
       " 40.283826983303776,\n",
       " 40.72175697329964,\n",
       " 40.45164354256521,\n",
       " 40.434161919021314,\n",
       " 40.53933522083936,\n",
       " 40.41883124308396,\n",
       " 40.47192062761147,\n",
       " 40.435279908496994,\n",
       " 40.54774259290449,\n",
       " 40.37709420574683,\n",
       " 40.364302238557286,\n",
       " 40.753236987793144,\n",
       " 40.62075978146104,\n",
       " 40.61583547560449,\n",
       " 40.66961961478025,\n",
       " 40.770828944487995,\n",
       " 40.58951697988971,\n",
       " 40.81911120485573,\n",
       " 40.6579278810837,\n",
       " 40.66779926726078,\n",
       " 40.65653151176398,\n",
       " 40.60599634321218,\n",
       " 40.705072486935265,\n",
       " 40.45004623513416,\n",
       " 40.530799764986305,\n",
       " 40.56443009370683,\n",
       " 40.70840738909826,\n",
       " 40.59693396583517]"
      ]
     },
     "execution_count": 11,
     "metadata": {},
     "output_type": "execute_result"
    }
   ],
   "source": [
    "mse_list"
   ]
  },
  {
   "cell_type": "markdown",
   "id": "single-celtic",
   "metadata": {},
   "source": [
    "**5. MSE mean & Standard Deviation for Task-A**"
   ]
  },
  {
   "cell_type": "code",
   "execution_count": 12,
   "id": "positive-diversity",
   "metadata": {},
   "outputs": [
    {
     "name": "stdout",
     "output_type": "stream",
     "text": [
      "Mean for Task-C: 45.00204086494594\n",
      "Standard Deviation for Task-C: 21.108337052990887\n"
     ]
    }
   ],
   "source": [
    "print('Mean for Task-C: {}'.format(np.mean(mse_list)))\n",
    "print('Standard Deviation for Task-C: {}'.format(np.std(mse_list)))"
   ]
  },
  {
   "cell_type": "markdown",
   "id": "coral-austria",
   "metadata": {},
   "source": [
    "### Difference between MSEs of Part-B (nromalized dataset & 50 epochs) and Part-C(nromalized dataset + 100 epochs)"
   ]
  },
  {
   "cell_type": "markdown",
   "id": "fancy-measurement",
   "metadata": {},
   "source": [
    "MSE in Part B = 50.019\n",
    "\n",
    "MSE in Part C = 45.002\n",
    "\n",
    "MSE further decreased by 5.017 after increasing the number of epochs to 100 in Part-C."
   ]
  },
  {
   "cell_type": "code",
   "execution_count": null,
   "id": "considerable-stack",
   "metadata": {},
   "outputs": [],
   "source": []
  }
 ],
 "metadata": {
  "kernelspec": {
   "display_name": "Python 3",
   "language": "python",
   "name": "python3"
  },
  "language_info": {
   "codemirror_mode": {
    "name": "ipython",
    "version": 3
   },
   "file_extension": ".py",
   "mimetype": "text/x-python",
   "name": "python",
   "nbconvert_exporter": "python",
   "pygments_lexer": "ipython3",
   "version": "3.8.7"
  }
 },
 "nbformat": 4,
 "nbformat_minor": 5
}
