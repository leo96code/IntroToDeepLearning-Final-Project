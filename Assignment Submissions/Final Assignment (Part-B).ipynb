{
 "cells": [
  {
   "cell_type": "markdown",
   "id": "innocent-nitrogen",
   "metadata": {},
   "source": [
    "# Peer-graded Assignment: Build a Regression Model in Keras"
   ]
  },
  {
   "cell_type": "markdown",
   "id": "failing-outline",
   "metadata": {},
   "source": [
    "## Concrete Strength Prediction - Part B"
   ]
  },
  {
   "cell_type": "markdown",
   "id": "bound-mining",
   "metadata": {},
   "source": [
    "### Submitted by: Muhammad Jawad Bashir"
   ]
  },
  {
   "cell_type": "markdown",
   "id": "connected-penetration",
   "metadata": {},
   "source": [
    "**1. Importing Libararies & Dataset**"
   ]
  },
  {
   "cell_type": "code",
   "execution_count": 26,
   "id": "endless-begin",
   "metadata": {},
   "outputs": [],
   "source": [
    "import pandas as pd\n",
    "import numpy as np"
   ]
  },
  {
   "cell_type": "code",
   "execution_count": 27,
   "id": "intermediate-grove",
   "metadata": {},
   "outputs": [
    {
     "data": {
      "text/html": [
       "<div>\n",
       "<style scoped>\n",
       "    .dataframe tbody tr th:only-of-type {\n",
       "        vertical-align: middle;\n",
       "    }\n",
       "\n",
       "    .dataframe tbody tr th {\n",
       "        vertical-align: top;\n",
       "    }\n",
       "\n",
       "    .dataframe thead th {\n",
       "        text-align: right;\n",
       "    }\n",
       "</style>\n",
       "<table border=\"1\" class=\"dataframe\">\n",
       "  <thead>\n",
       "    <tr style=\"text-align: right;\">\n",
       "      <th></th>\n",
       "      <th>Cement</th>\n",
       "      <th>Blast Furnace Slag</th>\n",
       "      <th>Fly Ash</th>\n",
       "      <th>Water</th>\n",
       "      <th>Superplasticizer</th>\n",
       "      <th>Coarse Aggregate</th>\n",
       "      <th>Fine Aggregate</th>\n",
       "      <th>Age</th>\n",
       "      <th>Strength</th>\n",
       "    </tr>\n",
       "  </thead>\n",
       "  <tbody>\n",
       "    <tr>\n",
       "      <th>0</th>\n",
       "      <td>540.0</td>\n",
       "      <td>0.0</td>\n",
       "      <td>0.0</td>\n",
       "      <td>162.0</td>\n",
       "      <td>2.5</td>\n",
       "      <td>1040.0</td>\n",
       "      <td>676.0</td>\n",
       "      <td>28</td>\n",
       "      <td>79.99</td>\n",
       "    </tr>\n",
       "    <tr>\n",
       "      <th>1</th>\n",
       "      <td>540.0</td>\n",
       "      <td>0.0</td>\n",
       "      <td>0.0</td>\n",
       "      <td>162.0</td>\n",
       "      <td>2.5</td>\n",
       "      <td>1055.0</td>\n",
       "      <td>676.0</td>\n",
       "      <td>28</td>\n",
       "      <td>61.89</td>\n",
       "    </tr>\n",
       "    <tr>\n",
       "      <th>2</th>\n",
       "      <td>332.5</td>\n",
       "      <td>142.5</td>\n",
       "      <td>0.0</td>\n",
       "      <td>228.0</td>\n",
       "      <td>0.0</td>\n",
       "      <td>932.0</td>\n",
       "      <td>594.0</td>\n",
       "      <td>270</td>\n",
       "      <td>40.27</td>\n",
       "    </tr>\n",
       "    <tr>\n",
       "      <th>3</th>\n",
       "      <td>332.5</td>\n",
       "      <td>142.5</td>\n",
       "      <td>0.0</td>\n",
       "      <td>228.0</td>\n",
       "      <td>0.0</td>\n",
       "      <td>932.0</td>\n",
       "      <td>594.0</td>\n",
       "      <td>365</td>\n",
       "      <td>41.05</td>\n",
       "    </tr>\n",
       "    <tr>\n",
       "      <th>4</th>\n",
       "      <td>198.6</td>\n",
       "      <td>132.4</td>\n",
       "      <td>0.0</td>\n",
       "      <td>192.0</td>\n",
       "      <td>0.0</td>\n",
       "      <td>978.4</td>\n",
       "      <td>825.5</td>\n",
       "      <td>360</td>\n",
       "      <td>44.30</td>\n",
       "    </tr>\n",
       "  </tbody>\n",
       "</table>\n",
       "</div>"
      ],
      "text/plain": [
       "   Cement  Blast Furnace Slag  Fly Ash  Water  Superplasticizer  \\\n",
       "0   540.0                 0.0      0.0  162.0               2.5   \n",
       "1   540.0                 0.0      0.0  162.0               2.5   \n",
       "2   332.5               142.5      0.0  228.0               0.0   \n",
       "3   332.5               142.5      0.0  228.0               0.0   \n",
       "4   198.6               132.4      0.0  192.0               0.0   \n",
       "\n",
       "   Coarse Aggregate  Fine Aggregate  Age  Strength  \n",
       "0            1040.0           676.0   28     79.99  \n",
       "1            1055.0           676.0   28     61.89  \n",
       "2             932.0           594.0  270     40.27  \n",
       "3             932.0           594.0  365     41.05  \n",
       "4             978.4           825.5  360     44.30  "
      ]
     },
     "execution_count": 27,
     "metadata": {},
     "output_type": "execute_result"
    }
   ],
   "source": [
    "concrete_data = pd.read_csv('https://s3-api.us-geo.objectstorage.softlayer.net/cf-courses-data/CognitiveClass/DL0101EN/labs/data/concrete_data.csv')\n",
    "concrete_data.head()"
   ]
  },
  {
   "cell_type": "code",
   "execution_count": 28,
   "id": "after-rates",
   "metadata": {},
   "outputs": [
    {
     "data": {
      "text/plain": [
       "Cement                0\n",
       "Blast Furnace Slag    0\n",
       "Fly Ash               0\n",
       "Water                 0\n",
       "Superplasticizer      0\n",
       "Coarse Aggregate      0\n",
       "Fine Aggregate        0\n",
       "Age                   0\n",
       "Strength              0\n",
       "dtype: int64"
      ]
     },
     "execution_count": 28,
     "metadata": {},
     "output_type": "execute_result"
    }
   ],
   "source": [
    "concrete_data.isnull().sum()"
   ]
  },
  {
   "cell_type": "markdown",
   "id": "reported-blink",
   "metadata": {},
   "source": [
    "**2. Separate into features & labels**"
   ]
  },
  {
   "cell_type": "code",
   "execution_count": 29,
   "id": "soviet-thirty",
   "metadata": {},
   "outputs": [
    {
     "data": {
      "text/plain": [
       "0    79.99\n",
       "1    61.89\n",
       "2    40.27\n",
       "3    41.05\n",
       "4    44.30\n",
       "Name: Strength, dtype: float64"
      ]
     },
     "execution_count": 29,
     "metadata": {},
     "output_type": "execute_result"
    }
   ],
   "source": [
    "#Let's split the data into predictors and target\n",
    "cd_columns = concrete_data.columns\n",
    "predictors = concrete_data[cd_columns[cd_columns != 'Strength']]\n",
    "target = concrete_data['Strength']\n",
    "target.head()"
   ]
  },
  {
   "cell_type": "markdown",
   "id": "altered-aggregate",
   "metadata": {},
   "source": [
    "**2a: Normalizing the Dataset***"
   ]
  },
  {
   "cell_type": "code",
   "execution_count": 30,
   "id": "aboriginal-trigger",
   "metadata": {},
   "outputs": [
    {
     "data": {
      "text/html": [
       "<div>\n",
       "<style scoped>\n",
       "    .dataframe tbody tr th:only-of-type {\n",
       "        vertical-align: middle;\n",
       "    }\n",
       "\n",
       "    .dataframe tbody tr th {\n",
       "        vertical-align: top;\n",
       "    }\n",
       "\n",
       "    .dataframe thead th {\n",
       "        text-align: right;\n",
       "    }\n",
       "</style>\n",
       "<table border=\"1\" class=\"dataframe\">\n",
       "  <thead>\n",
       "    <tr style=\"text-align: right;\">\n",
       "      <th></th>\n",
       "      <th>Cement</th>\n",
       "      <th>Blast Furnace Slag</th>\n",
       "      <th>Fly Ash</th>\n",
       "      <th>Water</th>\n",
       "      <th>Superplasticizer</th>\n",
       "      <th>Coarse Aggregate</th>\n",
       "      <th>Fine Aggregate</th>\n",
       "      <th>Age</th>\n",
       "    </tr>\n",
       "  </thead>\n",
       "  <tbody>\n",
       "    <tr>\n",
       "      <th>0</th>\n",
       "      <td>2.476712</td>\n",
       "      <td>-0.856472</td>\n",
       "      <td>-0.846733</td>\n",
       "      <td>-0.916319</td>\n",
       "      <td>-0.620147</td>\n",
       "      <td>0.862735</td>\n",
       "      <td>-1.217079</td>\n",
       "      <td>-0.279597</td>\n",
       "    </tr>\n",
       "    <tr>\n",
       "      <th>1</th>\n",
       "      <td>2.476712</td>\n",
       "      <td>-0.856472</td>\n",
       "      <td>-0.846733</td>\n",
       "      <td>-0.916319</td>\n",
       "      <td>-0.620147</td>\n",
       "      <td>1.055651</td>\n",
       "      <td>-1.217079</td>\n",
       "      <td>-0.279597</td>\n",
       "    </tr>\n",
       "    <tr>\n",
       "      <th>2</th>\n",
       "      <td>0.491187</td>\n",
       "      <td>0.795140</td>\n",
       "      <td>-0.846733</td>\n",
       "      <td>2.174405</td>\n",
       "      <td>-1.038638</td>\n",
       "      <td>-0.526262</td>\n",
       "      <td>-2.239829</td>\n",
       "      <td>3.551340</td>\n",
       "    </tr>\n",
       "    <tr>\n",
       "      <th>3</th>\n",
       "      <td>0.491187</td>\n",
       "      <td>0.795140</td>\n",
       "      <td>-0.846733</td>\n",
       "      <td>2.174405</td>\n",
       "      <td>-1.038638</td>\n",
       "      <td>-0.526262</td>\n",
       "      <td>-2.239829</td>\n",
       "      <td>5.055221</td>\n",
       "    </tr>\n",
       "    <tr>\n",
       "      <th>4</th>\n",
       "      <td>-0.790075</td>\n",
       "      <td>0.678079</td>\n",
       "      <td>-0.846733</td>\n",
       "      <td>0.488555</td>\n",
       "      <td>-1.038638</td>\n",
       "      <td>0.070492</td>\n",
       "      <td>0.647569</td>\n",
       "      <td>4.976069</td>\n",
       "    </tr>\n",
       "  </tbody>\n",
       "</table>\n",
       "</div>"
      ],
      "text/plain": [
       "     Cement  Blast Furnace Slag   Fly Ash     Water  Superplasticizer  \\\n",
       "0  2.476712           -0.856472 -0.846733 -0.916319         -0.620147   \n",
       "1  2.476712           -0.856472 -0.846733 -0.916319         -0.620147   \n",
       "2  0.491187            0.795140 -0.846733  2.174405         -1.038638   \n",
       "3  0.491187            0.795140 -0.846733  2.174405         -1.038638   \n",
       "4 -0.790075            0.678079 -0.846733  0.488555         -1.038638   \n",
       "\n",
       "   Coarse Aggregate  Fine Aggregate       Age  \n",
       "0          0.862735       -1.217079 -0.279597  \n",
       "1          1.055651       -1.217079 -0.279597  \n",
       "2         -0.526262       -2.239829  3.551340  \n",
       "3         -0.526262       -2.239829  5.055221  \n",
       "4          0.070492        0.647569  4.976069  "
      ]
     },
     "execution_count": 30,
     "metadata": {},
     "output_type": "execute_result"
    }
   ],
   "source": [
    "pred_norm = (predictors - predictors.mean()) / predictors.std()\n",
    "pred_norm.head()"
   ]
  },
  {
   "cell_type": "code",
   "execution_count": 31,
   "id": "taken-michigan",
   "metadata": {},
   "outputs": [
    {
     "data": {
      "text/plain": [
       "8"
      ]
     },
     "execution_count": 31,
     "metadata": {},
     "output_type": "execute_result"
    }
   ],
   "source": [
    "inp_cols = pred_norm.shape[1]\n",
    "inp_cols"
   ]
  },
  {
   "cell_type": "markdown",
   "id": "collectible-description",
   "metadata": {},
   "source": [
    "**3. Defining Keras Regression Model**"
   ]
  },
  {
   "cell_type": "code",
   "execution_count": 32,
   "id": "entire-turner",
   "metadata": {},
   "outputs": [],
   "source": [
    "import keras\n",
    "from keras.models import Sequential\n",
    "from keras.layers import Dense"
   ]
  },
  {
   "cell_type": "code",
   "execution_count": 33,
   "id": "built-coverage",
   "metadata": {},
   "outputs": [],
   "source": [
    "def model_reg():\n",
    "    model = Sequential()\n",
    "    model.add(Dense(10, activation='relu', input_shape=(inp_cols,)))\n",
    "    model.add(Dense(1))\n",
    "    model.compile(optimizer = 'adam', loss='mean_squared_error')\n",
    "    return model"
   ]
  },
  {
   "cell_type": "markdown",
   "id": "original-supply",
   "metadata": {},
   "source": [
    "**4. Running the model for 50 times with given requirements in Assignment Part-B**"
   ]
  },
  {
   "cell_type": "code",
   "execution_count": 34,
   "id": "scenic-governor",
   "metadata": {},
   "outputs": [],
   "source": [
    "from sklearn.model_selection import train_test_split\n",
    "from sklearn.metrics import mean_squared_error"
   ]
  },
  {
   "cell_type": "code",
   "execution_count": 35,
   "id": "corporate-circular",
   "metadata": {},
   "outputs": [],
   "source": [
    "mse_list = []\n",
    "model = model_reg()\n",
    "for i in range(0,50):\n",
    "    X_train, X_test, y_train, y_test = train_test_split(pred_norm, target, test_size = 0.30, random_state=42)\n",
    "    model.fit(X_train, y_train, epochs=50, verbose=0)\n",
    "    y_pred = model.predict(X_test)\n",
    "    mse = mean_squared_error(y_test,y_pred)\n",
    "    mse_list.append(mse)"
   ]
  },
  {
   "cell_type": "code",
   "execution_count": 36,
   "id": "three-spencer",
   "metadata": {},
   "outputs": [
    {
     "data": {
      "text/plain": [
       "[377.121195568449,\n",
       " 153.78006727296923,\n",
       " 113.90150140982165,\n",
       " 85.46228669646383,\n",
       " 68.76646358616388,\n",
       " 58.10225960135661,\n",
       " 50.50327087200443,\n",
       " 46.29975962863619,\n",
       " 43.697614338791,\n",
       " 41.994568576235004,\n",
       " 40.68519627070791,\n",
       " 40.03355701447437,\n",
       " 39.43507664449878,\n",
       " 39.003679055380715,\n",
       " 38.87172463394903,\n",
       " 38.71650228996268,\n",
       " 38.44947142494224,\n",
       " 38.51534722713935,\n",
       " 38.42690894357013,\n",
       " 38.3101743135967,\n",
       " 38.17749224327086,\n",
       " 38.17494065515538,\n",
       " 37.99142213810056,\n",
       " 37.88379732629837,\n",
       " 37.83863447319235,\n",
       " 37.85352246617434,\n",
       " 37.43571402343503,\n",
       " 37.44726371280776,\n",
       " 37.661083892570545,\n",
       " 37.427370964009775,\n",
       " 37.24947949096144,\n",
       " 36.81475704771588,\n",
       " 36.74505781692336,\n",
       " 36.429215588790235,\n",
       " 36.45507999158189,\n",
       " 35.95066977261425,\n",
       " 35.509592182647175,\n",
       " 35.15802015654629,\n",
       " 34.69352220700739,\n",
       " 34.39374425626946,\n",
       " 33.979703021894345,\n",
       " 33.93716796292823,\n",
       " 33.54117288242288,\n",
       " 33.46912761462074,\n",
       " 33.24302311733558,\n",
       " 33.1260753347531,\n",
       " 33.2328095316356,\n",
       " 33.07183687989639,\n",
       " 32.94791719977529,\n",
       " 33.05686079284578]"
      ]
     },
     "execution_count": 36,
     "metadata": {},
     "output_type": "execute_result"
    }
   ],
   "source": [
    "mse_list"
   ]
  },
  {
   "cell_type": "markdown",
   "id": "single-celtic",
   "metadata": {},
   "source": [
    "**5. MSE mean & Standard Deviation for Task-A**"
   ]
  },
  {
   "cell_type": "code",
   "execution_count": 37,
   "id": "positive-diversity",
   "metadata": {},
   "outputs": [
    {
     "name": "stdout",
     "output_type": "stream",
     "text": [
      "Mean for Task-B: 50.01945400226587\n",
      "Standard Deviation for Task-B: 51.206979050697335\n"
     ]
    }
   ],
   "source": [
    "print('Mean for Task-B: {}'.format(np.mean(mse_list)))\n",
    "print('Standard Deviation for Task-B: {}'.format(np.std(mse_list)))"
   ]
  },
  {
   "cell_type": "markdown",
   "id": "industrial-fight",
   "metadata": {},
   "source": [
    "### Difference between MSEs of Part-A (unnromalized dataset) and Part-B(normalized dataset)"
   ]
  },
  {
   "cell_type": "markdown",
   "id": "convinced-brisbane",
   "metadata": {},
   "source": [
    "MSE in Part A = 108.159\n",
    "\n",
    "MSE in Part B = 50.019\n",
    "\n",
    "MSE decreased by 58.14 when we used the normalized dataset in Part-A."
   ]
  },
  {
   "cell_type": "code",
   "execution_count": null,
   "id": "normal-celtic",
   "metadata": {},
   "outputs": [],
   "source": []
  }
 ],
 "metadata": {
  "kernelspec": {
   "display_name": "Python 3",
   "language": "python",
   "name": "python3"
  },
  "language_info": {
   "codemirror_mode": {
    "name": "ipython",
    "version": 3
   },
   "file_extension": ".py",
   "mimetype": "text/x-python",
   "name": "python",
   "nbconvert_exporter": "python",
   "pygments_lexer": "ipython3",
   "version": "3.8.7"
  }
 },
 "nbformat": 4,
 "nbformat_minor": 5
}
