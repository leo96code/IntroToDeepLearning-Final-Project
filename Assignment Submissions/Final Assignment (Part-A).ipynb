{
 "cells": [
  {
   "cell_type": "markdown",
   "id": "binary-munich",
   "metadata": {},
   "source": [
    "# Peer-graded Assignment: Build a Regression Model in Keras"
   ]
  },
  {
   "cell_type": "markdown",
   "id": "brave-premises",
   "metadata": {},
   "source": [
    "## Concrete Strength Prediction - Part A"
   ]
  },
  {
   "cell_type": "markdown",
   "id": "minute-intellectual",
   "metadata": {},
   "source": [
    "### Submitted by: Muhammad Jawad Bashir"
   ]
  },
  {
   "cell_type": "markdown",
   "id": "judicial-hammer",
   "metadata": {},
   "source": [
    "**1. Importing Libararies & Dataset**"
   ]
  },
  {
   "cell_type": "code",
   "execution_count": 80,
   "id": "attached-ribbon",
   "metadata": {},
   "outputs": [],
   "source": [
    "import pandas as pd\n",
    "import numpy as np"
   ]
  },
  {
   "cell_type": "code",
   "execution_count": 81,
   "id": "successful-customs",
   "metadata": {},
   "outputs": [
    {
     "data": {
      "text/html": [
       "<div>\n",
       "<style scoped>\n",
       "    .dataframe tbody tr th:only-of-type {\n",
       "        vertical-align: middle;\n",
       "    }\n",
       "\n",
       "    .dataframe tbody tr th {\n",
       "        vertical-align: top;\n",
       "    }\n",
       "\n",
       "    .dataframe thead th {\n",
       "        text-align: right;\n",
       "    }\n",
       "</style>\n",
       "<table border=\"1\" class=\"dataframe\">\n",
       "  <thead>\n",
       "    <tr style=\"text-align: right;\">\n",
       "      <th></th>\n",
       "      <th>Cement</th>\n",
       "      <th>Blast Furnace Slag</th>\n",
       "      <th>Fly Ash</th>\n",
       "      <th>Water</th>\n",
       "      <th>Superplasticizer</th>\n",
       "      <th>Coarse Aggregate</th>\n",
       "      <th>Fine Aggregate</th>\n",
       "      <th>Age</th>\n",
       "      <th>Strength</th>\n",
       "    </tr>\n",
       "  </thead>\n",
       "  <tbody>\n",
       "    <tr>\n",
       "      <th>0</th>\n",
       "      <td>540.0</td>\n",
       "      <td>0.0</td>\n",
       "      <td>0.0</td>\n",
       "      <td>162.0</td>\n",
       "      <td>2.5</td>\n",
       "      <td>1040.0</td>\n",
       "      <td>676.0</td>\n",
       "      <td>28</td>\n",
       "      <td>79.99</td>\n",
       "    </tr>\n",
       "    <tr>\n",
       "      <th>1</th>\n",
       "      <td>540.0</td>\n",
       "      <td>0.0</td>\n",
       "      <td>0.0</td>\n",
       "      <td>162.0</td>\n",
       "      <td>2.5</td>\n",
       "      <td>1055.0</td>\n",
       "      <td>676.0</td>\n",
       "      <td>28</td>\n",
       "      <td>61.89</td>\n",
       "    </tr>\n",
       "    <tr>\n",
       "      <th>2</th>\n",
       "      <td>332.5</td>\n",
       "      <td>142.5</td>\n",
       "      <td>0.0</td>\n",
       "      <td>228.0</td>\n",
       "      <td>0.0</td>\n",
       "      <td>932.0</td>\n",
       "      <td>594.0</td>\n",
       "      <td>270</td>\n",
       "      <td>40.27</td>\n",
       "    </tr>\n",
       "    <tr>\n",
       "      <th>3</th>\n",
       "      <td>332.5</td>\n",
       "      <td>142.5</td>\n",
       "      <td>0.0</td>\n",
       "      <td>228.0</td>\n",
       "      <td>0.0</td>\n",
       "      <td>932.0</td>\n",
       "      <td>594.0</td>\n",
       "      <td>365</td>\n",
       "      <td>41.05</td>\n",
       "    </tr>\n",
       "    <tr>\n",
       "      <th>4</th>\n",
       "      <td>198.6</td>\n",
       "      <td>132.4</td>\n",
       "      <td>0.0</td>\n",
       "      <td>192.0</td>\n",
       "      <td>0.0</td>\n",
       "      <td>978.4</td>\n",
       "      <td>825.5</td>\n",
       "      <td>360</td>\n",
       "      <td>44.30</td>\n",
       "    </tr>\n",
       "  </tbody>\n",
       "</table>\n",
       "</div>"
      ],
      "text/plain": [
       "   Cement  Blast Furnace Slag  Fly Ash  Water  Superplasticizer  \\\n",
       "0   540.0                 0.0      0.0  162.0               2.5   \n",
       "1   540.0                 0.0      0.0  162.0               2.5   \n",
       "2   332.5               142.5      0.0  228.0               0.0   \n",
       "3   332.5               142.5      0.0  228.0               0.0   \n",
       "4   198.6               132.4      0.0  192.0               0.0   \n",
       "\n",
       "   Coarse Aggregate  Fine Aggregate  Age  Strength  \n",
       "0            1040.0           676.0   28     79.99  \n",
       "1            1055.0           676.0   28     61.89  \n",
       "2             932.0           594.0  270     40.27  \n",
       "3             932.0           594.0  365     41.05  \n",
       "4             978.4           825.5  360     44.30  "
      ]
     },
     "execution_count": 81,
     "metadata": {},
     "output_type": "execute_result"
    }
   ],
   "source": [
    "concrete_data = pd.read_csv('https://s3-api.us-geo.objectstorage.softlayer.net/cf-courses-data/CognitiveClass/DL0101EN/labs/data/concrete_data.csv')\n",
    "concrete_data.head()"
   ]
  },
  {
   "cell_type": "code",
   "execution_count": 82,
   "id": "sexual-characteristic",
   "metadata": {},
   "outputs": [
    {
     "data": {
      "text/plain": [
       "Cement                0\n",
       "Blast Furnace Slag    0\n",
       "Fly Ash               0\n",
       "Water                 0\n",
       "Superplasticizer      0\n",
       "Coarse Aggregate      0\n",
       "Fine Aggregate        0\n",
       "Age                   0\n",
       "Strength              0\n",
       "dtype: int64"
      ]
     },
     "execution_count": 82,
     "metadata": {},
     "output_type": "execute_result"
    }
   ],
   "source": [
    "concrete_data.isnull().sum()"
   ]
  },
  {
   "cell_type": "markdown",
   "id": "featured-graduation",
   "metadata": {},
   "source": [
    "**2. Separate into features & labels**"
   ]
  },
  {
   "cell_type": "code",
   "execution_count": 83,
   "id": "correct-qualification",
   "metadata": {},
   "outputs": [
    {
     "data": {
      "text/plain": [
       "0    79.99\n",
       "1    61.89\n",
       "2    40.27\n",
       "3    41.05\n",
       "4    44.30\n",
       "Name: Strength, dtype: float64"
      ]
     },
     "execution_count": 83,
     "metadata": {},
     "output_type": "execute_result"
    }
   ],
   "source": [
    "#Let's split the data into predictors and target\n",
    "cd_columns = concrete_data.columns\n",
    "predictors = concrete_data[cd_columns[cd_columns != 'Strength']]\n",
    "target = concrete_data['Strength']\n",
    "target.head()"
   ]
  },
  {
   "cell_type": "code",
   "execution_count": 84,
   "id": "national-player",
   "metadata": {},
   "outputs": [
    {
     "data": {
      "text/plain": [
       "8"
      ]
     },
     "execution_count": 84,
     "metadata": {},
     "output_type": "execute_result"
    }
   ],
   "source": [
    "inp_cols = predictors.shape[1]\n",
    "inp_cols"
   ]
  },
  {
   "cell_type": "markdown",
   "id": "binary-response",
   "metadata": {},
   "source": [
    "**3. Defining Keras Regression Model**"
   ]
  },
  {
   "cell_type": "code",
   "execution_count": 85,
   "id": "stable-parallel",
   "metadata": {},
   "outputs": [],
   "source": [
    "import keras\n",
    "from keras.models import Sequential\n",
    "from keras.layers import Dense"
   ]
  },
  {
   "cell_type": "code",
   "execution_count": 86,
   "id": "chemical-ladder",
   "metadata": {},
   "outputs": [],
   "source": [
    "def model_reg():\n",
    "    model = Sequential()\n",
    "    model.add(Dense(10, activation='relu', input_shape=(inp_cols,)))\n",
    "    model.add(Dense(1))\n",
    "    model.compile(optimizer = 'adam', loss='mean_squared_error')\n",
    "    return model"
   ]
  },
  {
   "cell_type": "markdown",
   "id": "pretty-regard",
   "metadata": {},
   "source": [
    "**4. Running the model for 50 times with given requirements in Assignment Part-A**"
   ]
  },
  {
   "cell_type": "code",
   "execution_count": 87,
   "id": "angry-belgium",
   "metadata": {},
   "outputs": [],
   "source": [
    "from sklearn.model_selection import train_test_split\n",
    "from sklearn.metrics import mean_squared_error"
   ]
  },
  {
   "cell_type": "code",
   "execution_count": 88,
   "id": "decreased-stand",
   "metadata": {},
   "outputs": [],
   "source": [
    "mse_list = []\n",
    "model = model_reg()\n",
    "for i in range(0,50):\n",
    "    X_train, X_test, y_train, y_test = train_test_split(predictors, target, test_size = 0.30, random_state=42)\n",
    "    model.fit(X_train, y_train, epochs=50, verbose=0)\n",
    "    y_pred = model.predict(X_test)\n",
    "    mse = mean_squared_error(y_test,y_pred)\n",
    "    mse_list.append(mse)"
   ]
  },
  {
   "cell_type": "code",
   "execution_count": 89,
   "id": "concrete-newark",
   "metadata": {},
   "outputs": [
    {
     "data": {
      "text/plain": [
       "[551.7058283214533,\n",
       " 237.74461673062677,\n",
       " 164.8046501551254,\n",
       " 136.92599748711666,\n",
       " 121.31386809680937,\n",
       " 114.4956915293893,\n",
       " 109.70086410839717,\n",
       " 111.83651962778309,\n",
       " 109.65054866271406,\n",
       " 109.48256987121022,\n",
       " 109.24120431249622,\n",
       " 108.52667020927203,\n",
       " 121.00992962667276,\n",
       " 108.35478442444393,\n",
       " 111.04758966070003,\n",
       " 108.99111798311135,\n",
       " 108.99526178249639,\n",
       " 109.03631653010643,\n",
       " 108.59817705249502,\n",
       " 108.13420578411103,\n",
       " 112.42751662703917,\n",
       " 108.11378802274244,\n",
       " 107.91619450041212,\n",
       " 115.70798812971417,\n",
       " 108.16457689085655,\n",
       " 116.4443683237181,\n",
       " 108.72146335919034,\n",
       " 110.6686735707788,\n",
       " 108.95219237050469,\n",
       " 109.81157886223023,\n",
       " 108.10481171644159,\n",
       " 77.6113513431882,\n",
       " 68.10022658197231,\n",
       " 74.0117356827861,\n",
       " 67.86594746780752,\n",
       " 67.49229375552486,\n",
       " 77.5996761842258,\n",
       " 74.30488800114199,\n",
       " 66.20353256063312,\n",
       " 66.30354460992201,\n",
       " 66.13631555576626,\n",
       " 66.90822927397141,\n",
       " 69.63397223404024,\n",
       " 67.16878464852188,\n",
       " 69.83961478553063,\n",
       " 68.23429531613321,\n",
       " 66.41891492003246,\n",
       " 67.10112958706331,\n",
       " 66.26648227461565,\n",
       " 76.16134784471897]"
      ]
     },
     "execution_count": 89,
     "metadata": {},
     "output_type": "execute_result"
    }
   ],
   "source": [
    "mse_list"
   ]
  },
  {
   "cell_type": "markdown",
   "id": "going-overview",
   "metadata": {},
   "source": [
    "**5. MSE mean & Standard Deviation for Task-A**"
   ]
  },
  {
   "cell_type": "code",
   "execution_count": 90,
   "id": "together-scoop",
   "metadata": {},
   "outputs": [
    {
     "name": "stdout",
     "output_type": "stream",
     "text": [
      "Mean for Task-A: 108.15983693915508\n",
      "Standard Deviation for Task-A: 70.22835073566002\n"
     ]
    }
   ],
   "source": [
    "print('Mean for Task-A: {}'.format(np.mean(mse_list)))\n",
    "print('Standard Deviation for Task-A: {}'.format(np.std(mse_list)))"
   ]
  }
 ],
 "metadata": {
  "kernelspec": {
   "display_name": "Python 3",
   "language": "python",
   "name": "python3"
  },
  "language_info": {
   "codemirror_mode": {
    "name": "ipython",
    "version": 3
   },
   "file_extension": ".py",
   "mimetype": "text/x-python",
   "name": "python",
   "nbconvert_exporter": "python",
   "pygments_lexer": "ipython3",
   "version": "3.8.7"
  }
 },
 "nbformat": 4,
 "nbformat_minor": 5
}
